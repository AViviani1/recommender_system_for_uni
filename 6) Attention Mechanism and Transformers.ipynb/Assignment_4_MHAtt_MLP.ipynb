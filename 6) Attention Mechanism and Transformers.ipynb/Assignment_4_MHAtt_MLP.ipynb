{
  "cells": [
    {
      "cell_type": "markdown",
      "metadata": {
        "id": "yVlwEEkWlXEu"
      },
      "source": [
        "# LAB 4: Attention"
      ]
    },
    {
      "cell_type": "markdown",
      "source": [
        "Assignment made by:\n",
        "\n",
        "Alessandro Viviani 843234\n",
        "\n",
        "Francesca Arredondo 820354\n",
        "\n",
        "Fabio Turchetta 898572\n"
      ],
      "metadata": {
        "id": "RS7fI7wlbnTU"
      }
    },
    {
      "cell_type": "code",
      "execution_count": 51,
      "metadata": {
        "id": "Yji9-7jslKRz"
      },
      "outputs": [],
      "source": [
        "import os\n",
        "import time\n",
        "import random\n",
        "import argparse\n",
        "import numpy as np \n",
        "import pandas as pd \n",
        "import torch\n",
        "import torch.nn as nn\n",
        "import torch.optim as optim\n",
        "import torch.utils.data as data\n",
        "from torch.utils.data import Dataset, DataLoader\n",
        "import matplotlib.pyplot as plt \n",
        "import torch.nn.functional as F\n",
        "from torch.nn import TransformerEncoder, TransformerEncoderLayer"
      ]
    },
    {
      "cell_type": "code",
      "execution_count": 52,
      "metadata": {
        "colab": {
          "base_uri": "https://localhost:8080/"
        },
        "id": "arJu3Re7XCky",
        "outputId": "42c53c64-dbaa-4694-accd-ee11b7d30464"
      },
      "outputs": [
        {
          "output_type": "execute_result",
          "data": {
            "text/plain": [
              "<torch._C.Generator at 0x7fef656f9c90>"
            ]
          },
          "metadata": {},
          "execution_count": 52
        }
      ],
      "source": [
        "np.random.seed(55)\n",
        "torch.manual_seed(5)"
      ]
    },
    {
      "cell_type": "code",
      "execution_count": 53,
      "metadata": {
        "id": "IkcVzJcY5TS_"
      },
      "outputs": [],
      "source": [
        "use_cuda = torch.cuda.is_available()\n",
        "device = torch.device(\"cpu\")"
      ]
    },
    {
      "cell_type": "code",
      "execution_count": 54,
      "metadata": {
        "id": "qcffYFMdxDcI"
      },
      "outputs": [],
      "source": [
        "dataset_origin = {'100k': 'u.data', '1M': 'ratings.dat'}\n",
        "\n",
        "num_sample_data = '100k'\n",
        "DATA_PATH = 'drive/MyDrive/Colab Notebooks/ml-100k/u.data'.format(dataset_origin[num_sample_data]) #change this with your directory \n"
      ]
    },
    {
      "cell_type": "code",
      "execution_count": 55,
      "metadata": {
        "colab": {
          "base_uri": "https://localhost:8080/"
        },
        "id": "XX0MtVLM4E_k",
        "outputId": "c81a2192-6f61-4055-bb59-f4be6b84f972"
      },
      "outputs": [
        {
          "output_type": "stream",
          "name": "stdout",
          "text": [
            "Drive already mounted at /content/drive; to attempt to forcibly remount, call drive.mount(\"/content/drive\", force_remount=True).\n"
          ]
        }
      ],
      "source": [
        "from google.colab import drive\n",
        "drive.mount('/content/drive')"
      ]
    },
    {
      "cell_type": "markdown",
      "source": [
        "Class Rating_Dataset"
      ],
      "metadata": {
        "id": "NdGJWM8FsgmQ"
      }
    },
    {
      "cell_type": "code",
      "execution_count": 56,
      "metadata": {
        "id": "hmlijxEoYXDj",
        "cellView": "form"
      },
      "outputs": [],
      "source": [
        "#@title\n",
        "class Rating_Datset(Dataset):\n",
        "\tdef __init__(self, user_list, item_list, rating_list):\n",
        "\t\tsuper(Rating_Datset, self).__init__()\n",
        "\t\tself.user_list = user_list\n",
        "\t\tself.item_list = item_list\n",
        "\t\tself.rating_list = rating_list\n",
        "\n",
        "\tdef __len__(self):\n",
        "\t\treturn len(self.user_list)\n",
        "\n",
        "\tdef __getitem__(self, idx):\n",
        "\t\tuser = self.user_list[idx]\n",
        "\t\titem = self.item_list[idx]\n",
        "\t\trating = self.rating_list[idx]\n",
        "\t\t\n",
        "\t\treturn (\n",
        "\t\t\ttorch.tensor(user, dtype=torch.long),\n",
        "\t\t\ttorch.tensor(item, dtype=torch.long),\n",
        "\t\t\ttorch.tensor(rating, dtype=torch.float)\n",
        "\t\t\t)"
      ]
    },
    {
      "cell_type": "markdown",
      "source": [
        "Class NCF_Data"
      ],
      "metadata": {
        "id": "ihc99EIhsnll"
      }
    },
    {
      "cell_type": "code",
      "execution_count": 57,
      "metadata": {
        "id": "FxZCDy4tYkRZ",
        "cellView": "form"
      },
      "outputs": [],
      "source": [
        "#@title\n",
        "class NCF_Data(object):\n",
        "\t\"\"\"\n",
        "\tConstruct Dataset for NCF\n",
        "\t\"\"\"\n",
        "\tdef __init__(self, args, ratings):\n",
        "\t\tself.ratings = ratings\n",
        "\t\tself.num_ng = args.num_ng\n",
        "\t\tself.num_ng_test = args.num_ng_test\n",
        "\t\tself.batch_size = args.batch_size\n",
        "\n",
        "\t\tself.preprocess_ratings = self._reindex(self.ratings)\n",
        "\n",
        "\t\tself.user_pool = set(self.ratings['user_id'].unique())\n",
        "\t\tself.item_pool = set(self.ratings['item_id'].unique())\n",
        "\n",
        "\t\tself.train_ratings, self.test_ratings = self._leave_one_out(self.preprocess_ratings)\n",
        "\t\tself.negatives = self._negative_sampling(self.preprocess_ratings)\n",
        "\n",
        "\t\n",
        "\tdef _reindex(self, ratings):\n",
        "\t\t\"\"\"\n",
        "\t\tProcess dataset to reindex userID and itemID, also set rating as binary feedback\n",
        "\t\t\"\"\"\n",
        "\t\tuser_list = list(ratings['user_id'].drop_duplicates())\n",
        "\t\tuser2id = {w: i for i, w in enumerate(user_list)}\n",
        "\n",
        "\t\titem_list = list(ratings['item_id'].drop_duplicates())\n",
        "\t\titem2id = {w: i for i, w in enumerate(item_list)}\n",
        "\n",
        "\t\tratings['user_id'] = ratings['user_id'].apply(lambda x: user2id[x])\n",
        "\t\tratings['item_id'] = ratings['item_id'].apply(lambda x: item2id[x])\n",
        "\t\tratings['rating'] = ratings['rating'].apply(lambda x: float(x > 0))\n",
        "\t\treturn ratings\n",
        "\n",
        "\tdef _leave_one_out(self, ratings):\n",
        "\t\t\"\"\"\n",
        "\t\tleave-one-out evaluation protocol in paper https://www.comp.nus.edu.sg/~xiangnan/papers/ncf.pdf\n",
        "\t\t\"\"\"\n",
        "\t\tratings['rank_latest'] = ratings.groupby(['user_id'])['timestamp'].rank(method='first', ascending=False)\n",
        "\t\ttest = ratings.loc[ratings['rank_latest'] == 1]\n",
        "\t\ttrain = ratings.loc[ratings['rank_latest'] > 1]\n",
        "\t\tassert train['user_id'].nunique()==test['user_id'].nunique(), 'Not Match Train User with Test User'\n",
        "\t\treturn train[['user_id', 'item_id', 'rating']], test[['user_id', 'item_id', 'rating']]\n",
        "\n",
        "\tdef _negative_sampling(self, ratings):\n",
        "\t\tinteract_status = (\n",
        "\t\t\tratings.groupby('user_id')['item_id']\n",
        "\t\t\t.apply(set)\n",
        "\t\t\t.reset_index()\n",
        "\t\t\t.rename(columns={'item_id': 'interacted_items'}))\n",
        "\t\tinteract_status['negative_items'] = interact_status['interacted_items'].apply(lambda x: self.item_pool - x)\n",
        "\t\tinteract_status['negative_samples'] = interact_status['negative_items'].apply(lambda x: random.sample(x, self.num_ng_test))\n",
        "\t\treturn interact_status[['user_id', 'negative_items', 'negative_samples']]\n",
        "\n",
        "\tdef get_train_instance(self):\n",
        "\t\tusers, items, ratings = [], [], []\n",
        "\t\ttrain_ratings = pd.merge(self.train_ratings, self.negatives[['user_id', 'negative_items']], on='user_id')\n",
        "\t\ttrain_ratings['negatives'] = train_ratings['negative_items'].apply(lambda x: random.sample(x, self.num_ng))\n",
        "\t\tfor row in train_ratings.itertuples():\n",
        "\t\t\tusers.append(int(row.user_id))\n",
        "\t\t\titems.append(int(row.item_id))\n",
        "\t\t\tratings.append(float(row.rating))\n",
        "\t\t\tfor i in range(self.num_ng):\n",
        "\t\t\t\tusers.append(int(row.user_id))\n",
        "\t\t\t\titems.append(int(row.negatives[i]))\n",
        "\t\t\t\tratings.append(float(0))  # negative samples get 0 rating\n",
        "\t\tdataset = Rating_Datset(\n",
        "\t\t\tuser_list=users,\n",
        "\t\t\titem_list=items,\n",
        "\t\t\trating_list=ratings)\n",
        "\t\treturn DataLoader(dataset, batch_size=self.batch_size, shuffle=True, num_workers=4)\n",
        "\n",
        "\tdef get_test_instance(self):\n",
        "\t\tusers, items, ratings = [], [], []\n",
        "\t\ttest_ratings = pd.merge(self.test_ratings, self.negatives[['user_id', 'negative_samples']], on='user_id')\n",
        "\t\tfor row in test_ratings.itertuples():\n",
        "\t\t\tusers.append(int(row.user_id))\n",
        "\t\t\titems.append(int(row.item_id))\n",
        "\t\t\tratings.append(float(row.rating))\n",
        "\t\t\tfor i in getattr(row, 'negative_samples'):\n",
        "\t\t\t\tusers.append(int(row.user_id))\n",
        "\t\t\t\titems.append(int(i))\n",
        "\t\t\t\tratings.append(float(0))\n",
        "\t\tdataset = Rating_Datset(\n",
        "\t\t\tuser_list=users,\n",
        "\t\t\titem_list=items,\n",
        "\t\t\trating_list=ratings)\n",
        "\t\treturn DataLoader(dataset, batch_size=self.num_ng_test+1, shuffle=False, num_workers=2)"
      ]
    },
    {
      "cell_type": "markdown",
      "source": [
        "Metrics"
      ],
      "metadata": {
        "id": "7w1aoplWs0rK"
      }
    },
    {
      "cell_type": "code",
      "execution_count": 58,
      "metadata": {
        "id": "uTaIX7H52i-a",
        "cellView": "form"
      },
      "outputs": [],
      "source": [
        "#@title\n",
        "def hit(ng_item, pred_items):\n",
        "\tif ng_item in pred_items:\n",
        "\t\treturn 1\n",
        "\treturn 0\n",
        "\n",
        "\n",
        "def ndcg(ng_item, pred_items):\n",
        "\tif ng_item in pred_items:\n",
        "\t\tindex = pred_items.index(ng_item)\n",
        "\t\treturn np.reciprocal(np.log2(index+2))\n",
        "\treturn 0\n",
        "\n",
        "\n",
        "def metrics(model, test_loader, top_k, device):\n",
        "\tHR, NDCG = [], []\n",
        "\n",
        "\tfor user, item, label in test_loader:\n",
        "\t\tuser = user.to(device)\n",
        "\t\titem = item.to(device)\n",
        "\n",
        "\t\tpredictions = model(user, item)\n",
        "\t\t_, indices = torch.topk(predictions, top_k)\n",
        "\t\trecommends = torch.take(\n",
        "\t\t\t\titem, indices).cpu().numpy().tolist()\n",
        "\n",
        "\t\tng_item = item[0].item() # leave one-out evaluation has only one item per user\n",
        "\t\tHR.append(hit(ng_item, recommends))\n",
        "\t\tNDCG.append(ndcg(ng_item, recommends))\n",
        "\n",
        "\treturn np.mean(HR), np.mean(NDCG)"
      ]
    },
    {
      "cell_type": "markdown",
      "source": [
        "Class MHSelfAttention"
      ],
      "metadata": {
        "id": "ECTGDHXftdeN"
      }
    },
    {
      "cell_type": "code",
      "source": [
        "emb=32\n",
        "heads=8"
      ],
      "metadata": {
        "id": "QG0nGvjMwHK5"
      },
      "execution_count": 59,
      "outputs": []
    },
    {
      "cell_type": "code",
      "execution_count": 60,
      "metadata": {
        "id": "NrvYJ5tPYI7L"
      },
      "outputs": [],
      "source": [
        "class MHSelfAttention(nn.Module):\n",
        "    \"\"\"\n",
        "    Multi-head self attention.\n",
        "    \"\"\"\n",
        "\n",
        "    def __init__(self, emb, heads=8):\n",
        "        \"\"\"\n",
        "        :param emb:\n",
        "        :param heads:\n",
        "        :param mask:\n",
        "        \"\"\"\n",
        "        super().__init__()\n",
        "\n",
        "        assert emb % heads == 0, f'Embedding dimension ({emb}) should be divisible by nr. of heads ({heads})'\n",
        "\n",
        "        self.emb = emb\n",
        "        self.heads = heads\n",
        "\n",
        "        #s = emb // heads\n",
        "        # - We will break the embedding into `heads` chunks and feed each to a different attention head\n",
        "\n",
        "        self.tokeys    = nn.Linear(emb, emb, bias=False)\n",
        "        self.toqueries = nn.Linear(emb, emb, bias=False)\n",
        "        self.tovalues  = nn.Linear(emb, emb, bias=False)\n",
        "\n",
        "        self.unifyheads = nn.Linear(emb, emb)\n",
        "\n",
        "    def forward(self, x, y):\n",
        "        \n",
        "        #b=256\n",
        "        #e=32\n",
        "        b, e = x.size()\n",
        "        h = self.heads\n",
        "        #h=8\n",
        "        assert e == self.emb, f'Input embedding dim ({e}) should match layer embedding dim ({self.emb})'\n",
        "\n",
        "        s = e // h \n",
        "\n",
        "        # We first compute the k/q/v's on the whole embedding vectors, and then split into the different heads.\n",
        "\n",
        "        keys    = self.tokeys(x)\n",
        "        queries = self.toqueries(y)\n",
        "        values  = self.tovalues(y)\n",
        "\n",
        "       # Split into the different heads.\n",
        "\n",
        "        keys    = keys.view(b, 1, h, s)    \n",
        "        queries = queries.view(b, 1, h, s)\n",
        "        values  = values.view(b, 1, h, s)\n",
        "\n",
        "        # Compute scaled dot-product self-attention\n",
        "\n",
        "        # Fold heads into the batch dimension\n",
        "        # When you call contiguous(), it actually makes a copy of the tensor \n",
        "        # such that the order of its elements in memory is the same as if it had been created from scratch with the same data.\n",
        "        keys = keys.transpose(1, 2).contiguous().view(b*h, 1, s)   \n",
        "        queries = queries.transpose(1, 2).contiguous().view(b*h, 1, s)\n",
        "        values = values.transpose(1, 2).contiguous().view(b*h, 1, s)\n",
        "\n",
        "        queries = queries / (e ** (1/4))\n",
        "        keys    = keys / (e ** (1/4))\n",
        "        # Instead of dividing the dot products by sqrt(e), we scale the keys and values.\n",
        "        # This should be more memory efficient\n",
        "\n",
        "        # Get dot product of queries and keys, and scale.\n",
        "\n",
        "        dot = torch.bmm(queries, keys.transpose(1, 2))\n",
        "\n",
        "        assert dot.size() == (b*h, 1, 1)\n",
        "\n",
        "        dot = F.softmax(dot, dim=2) # Dot now has row-wise self-attention probabilities\n",
        "\n",
        "        # apply the self attention to the values\n",
        "        out = torch.bmm(dot, values).view(b, h, 1, s)\n",
        "\n",
        "        # swap h, t back, unify heads\n",
        "        out = out.transpose(1, 2).contiguous().view(b, 1, s * h)\n",
        "\n",
        "        return self.unifyheads(out)"
      ]
    },
    {
      "cell_type": "markdown",
      "source": [
        "Class MLP"
      ],
      "metadata": {
        "id": "8cF9aqO_tQKK"
      }
    },
    {
      "cell_type": "code",
      "source": [
        "class MLP(nn.Module):\n",
        "    def __init__(self, args, num_users, num_items):\n",
        "        super(MLP, self).__init__()\n",
        "        self.num_users = num_users\n",
        "        self.num_items = num_items\n",
        "        self.factor_num = args.factor_num\n",
        "        self.layers = args.layers\n",
        "\n",
        "        self.embedding_user = nn.Embedding(num_embeddings=self.num_users, embedding_dim=self.factor_num)\n",
        "        self.embedding_item = nn.Embedding(num_embeddings=self.num_items, embedding_dim=self.factor_num)\n",
        "\n",
        "        self.fc_layers = nn.ModuleList()\n",
        "        for idx, (in_size, out_size) in enumerate(zip(self.layers[:-1], self.layers[1:])):\n",
        "            self.fc_layers.append(nn.Linear(in_size, out_size))\n",
        "\n",
        "        self.affine_output = nn.Linear(in_features=self.layers[-1], out_features=1)\n",
        "        self.logistic = nn.Sigmoid()\n",
        "\n",
        "    def forward(self, user_indices, item_indices):\n",
        "        user_embedding = self.embedding_user(user_indices)\n",
        "        item_embedding = self.embedding_item(item_indices)\n",
        "\n",
        "        vector = self_attention(user_embedding,item_embedding)\n",
        "        #print(vector.size())\n",
        "        for idx, _ in enumerate(range(len(self.fc_layers))):\n",
        "            vector = self.fc_layers[idx](vector)\n",
        "            vector = nn.ReLU()(vector)\n",
        "            # vector = nn.BatchNorm1d()(vector)\n",
        "            # vector = nn.Dropout(p=0.5)(vector)\n",
        "        logits = self.affine_output(vector)\n",
        "        rating = self.logistic(logits)\n",
        "        return rating.squeeze()\n",
        "\n",
        "    def init_weight(self):\n",
        "        pass"
      ],
      "metadata": {
        "id": "GqAiJmlnX4fs"
      },
      "execution_count": 61,
      "outputs": []
    },
    {
      "cell_type": "code",
      "execution_count": 62,
      "metadata": {
        "colab": {
          "base_uri": "https://localhost:8080/"
        },
        "id": "TzFNcyild5y8",
        "outputId": "9be7d5a8-eb6d-4093-c278-77bd4ee29510"
      },
      "outputs": [
        {
          "output_type": "execute_result",
          "data": {
            "text/plain": [
              "_StoreAction(option_strings=['--out'], dest='out', nargs=None, const=None, default=True, type=None, choices=None, required=False, help='save model or not', metavar=None)"
            ]
          },
          "metadata": {},
          "execution_count": 62
        }
      ],
      "source": [
        "#collapse-hide\n",
        "parser = argparse.ArgumentParser()\n",
        "parser.add_argument(\"--seed\", \n",
        "\ttype=int, \n",
        "\tdefault=51, \n",
        "\thelp=\"Seed\")\n",
        "parser.add_argument(\"--lr\", \n",
        "\ttype=float, \n",
        "\tdefault=0.001, \n",
        "\thelp=\"learning rate\")\n",
        "parser.add_argument(\"--dropout\", \n",
        "\ttype=float,\n",
        "\tdefault=0.2,  \n",
        "\thelp=\"dropout rate\")\n",
        "parser.add_argument(\"--batch_size\", \n",
        "\ttype=int, \n",
        "\tdefault=256, \n",
        "\thelp=\"batch size for training\")\n",
        "parser.add_argument(\"--epochs\", \n",
        "\ttype=int,\n",
        "\tdefault=3,  \n",
        "\thelp=\"training epoches\")\n",
        "parser.add_argument(\"--top_k\", \n",
        "\ttype=int, \n",
        "\tdefault=10, \n",
        "\thelp=\"compute metrics@top_k\")\n",
        "parser.add_argument(\"--factor_num\", \n",
        "\ttype=int,\n",
        "\tdefault=32, \n",
        "\thelp=\"predictive factors numbers in the model\")\n",
        "parser.add_argument(\"--layers\",\n",
        "    nargs='+', \n",
        "    default=[32,16,8,4],\n",
        "    help=\"MLP layers. Note that the first layer is the concatenation of user \\\n",
        "    and item embeddings. So layers[0]/2 is the embedding size.\")\n",
        "parser.add_argument(\"--num_ng\", \n",
        "\ttype=int,\n",
        "\tdefault=4, \n",
        "\thelp=\"Number of negative samples for training set\")\n",
        "parser.add_argument(\"--num_ng_test\", \n",
        "\ttype=int,\n",
        "\tdefault=100, \n",
        "\thelp=\"Number of negative samples for test set\")\n",
        "parser.add_argument(\"--out\", \n",
        "\tdefault=True,\n",
        "\thelp=\"save model or not\")"
      ]
    },
    {
      "cell_type": "markdown",
      "source": [
        "# Main"
      ],
      "metadata": {
        "id": "seLI6-BS_-wY"
      }
    },
    {
      "cell_type": "code",
      "execution_count": 63,
      "metadata": {
        "colab": {
          "base_uri": "https://localhost:8080/"
        },
        "id": "coXQgQWYd51r",
        "outputId": "34af93a9-f67d-4f53-96d0-276afb566416"
      },
      "outputs": [
        {
          "output_type": "stream",
          "name": "stderr",
          "text": [
            "<ipython-input-57-fa01be874ac8>:53: DeprecationWarning: Sampling from a set deprecated\n",
            "since Python 3.9 and will be removed in a subsequent version.\n",
            "  interact_status['negative_samples'] = interact_status['negative_items'].apply(lambda x: random.sample(x, self.num_ng_test))\n",
            "<ipython-input-57-fa01be874ac8>:59: DeprecationWarning: Sampling from a set deprecated\n",
            "since Python 3.9 and will be removed in a subsequent version.\n",
            "  train_ratings['negatives'] = train_ratings['negative_items'].apply(lambda x: random.sample(x, self.num_ng))\n",
            "/usr/local/lib/python3.10/dist-packages/torch/utils/data/dataloader.py:561: UserWarning: This DataLoader will create 4 worker processes in total. Our suggested max number of worker in current system is 2, which is smaller than what this DataLoader is going to create. Please be aware that excessive worker creation might get DataLoader running slow or even freeze, lower the worker number to avoid potential slowness/freeze if necessary.\n",
            "  warnings.warn(_create_warning_msg(\n"
          ]
        }
      ],
      "source": [
        " # set device and parameters\n",
        "args = parser.parse_args(\"\")\n",
        "device = torch.device(\"cpu\")\n",
        "\n",
        "# load data\n",
        "ml_100k = pd.read_csv(\n",
        "\tDATA_PATH, \n",
        "\tsep=\"\\t\", \n",
        "\tnames = ['user_id', 'item_id', 'rating', 'timestamp'], \n",
        "\tengine='python')\n",
        "\n",
        "# set the num_users, items\n",
        "num_users = ml_100k['user_id'].nunique()+1\n",
        "num_items = ml_100k['item_id'].nunique()+1\n",
        "\n",
        "# construct the train and test datasets\n",
        "data = NCF_Data(args, ml_100k)\n",
        "train_loader = data.get_train_instance()\n",
        "test_loader = data.get_test_instance()"
      ]
    },
    {
      "cell_type": "code",
      "source": [
        "self_attention = MHSelfAttention(emb, heads)"
      ],
      "metadata": {
        "id": "qoRBKI5OxYFH"
      },
      "execution_count": 64,
      "outputs": []
    },
    {
      "cell_type": "code",
      "source": [
        "# set model and loss, optimizer\n",
        "model = MLP(args, num_users, num_items)\n",
        "model = model.to(device)\n",
        "loss_function = nn.BCELoss()\n",
        "optimizer = optim.Adam(model.parameters(), lr=args.lr)"
      ],
      "metadata": {
        "id": "5H8ua7Y-xZy0"
      },
      "execution_count": 65,
      "outputs": []
    },
    {
      "cell_type": "code",
      "source": [
        "# train, evaluation\n",
        "best_hr = 0\n",
        "for epoch in range(1, args.epochs+1):\n",
        "\tmodel.train() # Enable dropout (if have).\n",
        "\tstart_time = time.time()\n",
        "\n",
        "\tfor user, item, label in train_loader:\n",
        "\t\tuser = user.to(device)\n",
        "\t\titem = item.to(device)\n",
        "\t\tlabel = label.to(device)\n",
        "\n",
        "\t\toptimizer.zero_grad()\n",
        "\t\tprediction = model(user, item)\n",
        "\t\tloss = loss_function(prediction, label)\n",
        "\t\tloss.backward()\n",
        "\t\toptimizer.step()\n",
        "\t\t#writer.add_scalar('loss/Train_loss', loss.item(), epoch)\n",
        "\n",
        "\tmodel.eval()\n",
        "\tHR, NDCG = metrics(model, test_loader, args.top_k, device)\n",
        "\t#writer.add_scalar('Perfomance/HR@10', HR, epoch)\n",
        "\t#writer.add_scalar('Perfomance/NDCG@10', NDCG, epoch)\n",
        "\n",
        "\telapsed_time = time.time() - start_time\n",
        "\tprint(\"Epoch {:03d}\".format(epoch) + \" time to train: \" + \n",
        "\t\t\ttime.strftime(\"%H: %M: %S\", time.gmtime(elapsed_time)))\n",
        "\tprint(\"HR: {:.3f}\\tNDCG: {:.3f}\".format(np.mean(HR), np.mean(NDCG)))\n",
        "\n",
        "\tif HR > best_hr:\n",
        "\t\tbest_hr, best_ndcg, best_epoch = HR, NDCG, epoch"
      ],
      "metadata": {
        "colab": {
          "base_uri": "https://localhost:8080/"
        },
        "id": "Hz1CtehkuCWM",
        "outputId": "493e1299-638e-4553-da34-22d44f39aa00"
      },
      "execution_count": 66,
      "outputs": [
        {
          "output_type": "stream",
          "name": "stderr",
          "text": [
            "/usr/local/lib/python3.10/dist-packages/torch/utils/data/dataloader.py:561: UserWarning: This DataLoader will create 4 worker processes in total. Our suggested max number of worker in current system is 2, which is smaller than what this DataLoader is going to create. Please be aware that excessive worker creation might get DataLoader running slow or even freeze, lower the worker number to avoid potential slowness/freeze if necessary.\n",
            "  warnings.warn(_create_warning_msg(\n"
          ]
        },
        {
          "output_type": "stream",
          "name": "stdout",
          "text": [
            "Epoch 001 time to train: 00: 00: 21\n",
            "HR: 0.382\tNDCG: 0.196\n",
            "Epoch 002 time to train: 00: 00: 23\n",
            "HR: 0.397\tNDCG: 0.214\n",
            "Epoch 003 time to train: 00: 00: 22\n",
            "HR: 0.407\tNDCG: 0.220\n"
          ]
        }
      ]
    },
    {
      "cell_type": "code",
      "source": [],
      "metadata": {
        "id": "6hDgVsmjUxmZ"
      },
      "execution_count": 66,
      "outputs": []
    }
  ],
  "metadata": {
    "colab": {
      "provenance": []
    },
    "kernelspec": {
      "display_name": "Python 3",
      "name": "python3"
    },
    "language_info": {
      "name": "python"
    },
    "accelerator": "GPU",
    "gpuClass": "standard"
  },
  "nbformat": 4,
  "nbformat_minor": 0
}